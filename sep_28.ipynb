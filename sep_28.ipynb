{
  "nbformat": 4,
  "nbformat_minor": 0,
  "metadata": {
    "colab": {
      "provenance": [],
      "authorship_tag": "ABX9TyNpLFmdRyVSJg0xISYK7QXX",
      "include_colab_link": true
    },
    "kernelspec": {
      "name": "python3",
      "display_name": "Python 3"
    },
    "language_info": {
      "name": "python"
    }
  },
  "cells": [
    {
      "cell_type": "markdown",
      "metadata": {
        "id": "view-in-github",
        "colab_type": "text"
      },
      "source": [
        "<a href=\"https://colab.research.google.com/github/ManazirHasan/algo-code/blob/main/sep_28.ipynb\" target=\"_parent\"><img src=\"https://colab.research.google.com/assets/colab-badge.svg\" alt=\"Open In Colab\"/></a>"
      ]
    },
    {
      "cell_type": "code",
      "execution_count": 15,
      "metadata": {
        "colab": {
          "base_uri": "https://localhost:8080/"
        },
        "id": "aPXzlpvePk60",
        "outputId": "dde94d1c-8732-46ce-c069-d52699b8a9fc"
      },
      "outputs": [
        {
          "output_type": "stream",
          "name": "stdout",
          "text": [
            " Peter Piper Picked A Pack Of Pickled Peppers\n"
          ]
        }
      ],
      "source": [
        "my_str = 'Peter Piper Picked A Peck Of Pickled Peppers'\n",
        "my_str=my_str.split(' ')\n",
        "sub_str = 'Peck'\n",
        "new_str = 'Pack'\n",
        "replaced_Str=''\n",
        "for i, word in enumerate(my_str) :\n",
        "  if(word == sub_str):\n",
        "      replaced_Str+=' '+new_str\n",
        "  else:\n",
        "     replaced_Str+=' '+word\n",
        "\n",
        "print(replaced_Str)"
      ]
    },
    {
      "cell_type": "markdown",
      "source": [],
      "metadata": {
        "id": "I-7ZV8TTXcUR"
      }
    },
    {
      "cell_type": "code",
      "source": [
        "for i in range(100):\n",
        "  print(i)\n",
        "  if i==20:\n",
        "    break;"
      ],
      "metadata": {
        "colab": {
          "base_uri": "https://localhost:8080/"
        },
        "id": "pbtEZpOlXd9z",
        "outputId": "44b93d6b-3cb2-4b68-d9b9-4d877388950e"
      },
      "execution_count": 17,
      "outputs": [
        {
          "output_type": "stream",
          "name": "stdout",
          "text": [
            "0\n",
            "1\n",
            "2\n",
            "3\n",
            "4\n",
            "5\n",
            "6\n",
            "7\n",
            "8\n",
            "9\n",
            "10\n",
            "11\n",
            "12\n",
            "13\n",
            "14\n",
            "15\n",
            "16\n",
            "17\n",
            "18\n",
            "19\n",
            "20\n"
          ]
        }
      ]
    },
    {
      "cell_type": "code",
      "source": [
        "import numpy as np\n",
        "a=[]\n",
        "b=[]\n",
        "c=[]\n",
        "for i in range(3):\n",
        "  for j in range(4):\n",
        "    for k in range(5):\n",
        "      x=i*j*k\n",
        "      a.append(x)\n",
        "    b.append(a)\n",
        "  c.append(b)\n",
        "  b=[]\n",
        "np= np.array(c)\n",
        "print(np)\n",
        "#import numpy as np\n",
        "#import matplotlib.pyplot as plt\n",
        "#fig = plt.figure()\n",
        "#ax = plt.axes(projection='3d')\n",
        "#ax.scatter3D(a,b,c,ap='Grens')"
      ],
      "metadata": {
        "colab": {
          "base_uri": "https://localhost:8080/"
        },
        "id": "Q67UU6WRb1EE",
        "outputId": "e85d51af-687d-40a1-9a34-fa7c2eda350d"
      },
      "execution_count": 32,
      "outputs": [
        {
          "output_type": "stream",
          "name": "stdout",
          "text": [
            "[[[ 0  0  0  0  0  0  0  0  0  0  0  0  0  0  0  0  0  0  0  0  0  0  0\n",
            "    0  0  0  1  2  3  4  0  2  4  6  8  0  3  6  9 12  0  0  0  0  0  0\n",
            "    2  4  6  8  0  4  8 12 16  0  6 12 18 24]\n",
            "  [ 0  0  0  0  0  0  0  0  0  0  0  0  0  0  0  0  0  0  0  0  0  0  0\n",
            "    0  0  0  1  2  3  4  0  2  4  6  8  0  3  6  9 12  0  0  0  0  0  0\n",
            "    2  4  6  8  0  4  8 12 16  0  6 12 18 24]\n",
            "  [ 0  0  0  0  0  0  0  0  0  0  0  0  0  0  0  0  0  0  0  0  0  0  0\n",
            "    0  0  0  1  2  3  4  0  2  4  6  8  0  3  6  9 12  0  0  0  0  0  0\n",
            "    2  4  6  8  0  4  8 12 16  0  6 12 18 24]\n",
            "  [ 0  0  0  0  0  0  0  0  0  0  0  0  0  0  0  0  0  0  0  0  0  0  0\n",
            "    0  0  0  1  2  3  4  0  2  4  6  8  0  3  6  9 12  0  0  0  0  0  0\n",
            "    2  4  6  8  0  4  8 12 16  0  6 12 18 24]]\n",
            "\n",
            " [[ 0  0  0  0  0  0  0  0  0  0  0  0  0  0  0  0  0  0  0  0  0  0  0\n",
            "    0  0  0  1  2  3  4  0  2  4  6  8  0  3  6  9 12  0  0  0  0  0  0\n",
            "    2  4  6  8  0  4  8 12 16  0  6 12 18 24]\n",
            "  [ 0  0  0  0  0  0  0  0  0  0  0  0  0  0  0  0  0  0  0  0  0  0  0\n",
            "    0  0  0  1  2  3  4  0  2  4  6  8  0  3  6  9 12  0  0  0  0  0  0\n",
            "    2  4  6  8  0  4  8 12 16  0  6 12 18 24]\n",
            "  [ 0  0  0  0  0  0  0  0  0  0  0  0  0  0  0  0  0  0  0  0  0  0  0\n",
            "    0  0  0  1  2  3  4  0  2  4  6  8  0  3  6  9 12  0  0  0  0  0  0\n",
            "    2  4  6  8  0  4  8 12 16  0  6 12 18 24]\n",
            "  [ 0  0  0  0  0  0  0  0  0  0  0  0  0  0  0  0  0  0  0  0  0  0  0\n",
            "    0  0  0  1  2  3  4  0  2  4  6  8  0  3  6  9 12  0  0  0  0  0  0\n",
            "    2  4  6  8  0  4  8 12 16  0  6 12 18 24]]\n",
            "\n",
            " [[ 0  0  0  0  0  0  0  0  0  0  0  0  0  0  0  0  0  0  0  0  0  0  0\n",
            "    0  0  0  1  2  3  4  0  2  4  6  8  0  3  6  9 12  0  0  0  0  0  0\n",
            "    2  4  6  8  0  4  8 12 16  0  6 12 18 24]\n",
            "  [ 0  0  0  0  0  0  0  0  0  0  0  0  0  0  0  0  0  0  0  0  0  0  0\n",
            "    0  0  0  1  2  3  4  0  2  4  6  8  0  3  6  9 12  0  0  0  0  0  0\n",
            "    2  4  6  8  0  4  8 12 16  0  6 12 18 24]\n",
            "  [ 0  0  0  0  0  0  0  0  0  0  0  0  0  0  0  0  0  0  0  0  0  0  0\n",
            "    0  0  0  1  2  3  4  0  2  4  6  8  0  3  6  9 12  0  0  0  0  0  0\n",
            "    2  4  6  8  0  4  8 12 16  0  6 12 18 24]\n",
            "  [ 0  0  0  0  0  0  0  0  0  0  0  0  0  0  0  0  0  0  0  0  0  0  0\n",
            "    0  0  0  1  2  3  4  0  2  4  6  8  0  3  6  9 12  0  0  0  0  0  0\n",
            "    2  4  6  8  0  4  8 12 16  0  6 12 18 24]]]\n"
          ]
        }
      ]
    },
    {
      "cell_type": "code",
      "source": [],
      "metadata": {
        "id": "8QTmUNq-cKSx"
      },
      "execution_count": null,
      "outputs": []
    }
  ]
}